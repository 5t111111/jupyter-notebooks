{
 "cells": [
  {
   "cell_type": "markdown",
   "metadata": {},
   "source": [
    "# Ruby Examples"
   ]
  },
  {
   "cell_type": "markdown",
   "metadata": {},
   "source": [
    "Consider installing the optional dependencies to get additional functionality:\n",
    "\n",
    "* pry\n",
    "* pry-doc\n",
    "* awesome_print\n",
    "* gnuplot\n",
    "* rubyvis\n",
    "* nyaplot\n"
   ]
  },
  {
   "cell_type": "code",
   "execution_count": 4,
   "metadata": {
    "collapsed": false
   },
   "outputs": [
    {
     "name": "stdout",
     "output_type": "stream",
     "text": [
      "Hello World\n"
     ]
    }
   ],
   "source": [
    "def hello(s)\n",
    "  puts \"Hello \" + s\n",
    "end\n",
    "\n",
    "hello(\"World\")"
   ]
  },
  {
   "cell_type": "markdown",
   "metadata": {},
   "source": [
    "## Nyaplot Example 1\n",
    "\n",
    "The below example is taken from http://domitry.hatenablog.jp/entry/2014/08/23/215630 ."
   ]
  },
  {
   "cell_type": "code",
   "execution_count": 6,
   "metadata": {
    "collapsed": false
   },
   "outputs": [
    {
     "data": {
      "application/javascript": [
       "if(window['d3'] === undefined ||\n",
       "   window['Nyaplot'] === undefined){\n",
       "    var path = {\"d3\":\"https://cdnjs.cloudflare.com/ajax/libs/d3/3.5.5/d3.min\",\"downloadable\":\"http://cdn.rawgit.com/domitry/d3-downloadable/master/d3-downloadable\"};\n",
       "\n",
       "\n",
       "\n",
       "    var shim = {\"d3\":{\"exports\":\"d3\"},\"downloadable\":{\"exports\":\"downloadable\"}};\n",
       "\n",
       "    require.config({paths: path, shim:shim});\n",
       "\n",
       "\n",
       "require(['d3'], function(d3){window['d3']=d3;console.log('finished loading d3');require(['downloadable'], function(downloadable){window['downloadable']=downloadable;console.log('finished loading downloadable');\n",
       "\n",
       "\tvar script = d3.select(\"head\")\n",
       "\t    .append(\"script\")\n",
       "\t    .attr(\"src\", \"http://cdn.rawgit.com/domitry/Nyaplotjs/master/release/nyaplot.js\")\n",
       "\t    .attr(\"async\", true);\n",
       "\n",
       "\tscript[0][0].onload = script[0][0].onreadystatechange = function(){\n",
       "\n",
       "\n",
       "\t    var event = document.createEvent(\"HTMLEvents\");\n",
       "\t    event.initEvent(\"load_nyaplot\",false,false);\n",
       "\t    window.dispatchEvent(event);\n",
       "\t    console.log('Finished loading Nyaplotjs');\n",
       "\n",
       "\t};\n",
       "\n",
       "\n",
       "});});\n",
       "}\n"
      ],
      "text/plain": [
       "\"if(window['d3'] === undefined ||\\n   window['Nyaplot'] === undefined){\\n    var path = {\\\"d3\\\":\\\"https://cdnjs.cloudflare.com/ajax/libs/d3/3.5.5/d3.min\\\",\\\"downloadable\\\":\\\"http://cdn.rawgit.com/domitry/d3-downloadable/master/d3-downloadable\\\"};\\n\\n\\n\\n    var shim = {\\\"d3\\\":{\\\"exports\\\":\\\"d3\\\"},\\\"downloadable\\\":{\\\"exports\\\":\\\"downloadable\\\"}};\\n\\n    require.config({paths: path, shim:shim});\\n\\n\\nrequire(['d3'], function(d3){window['d3']=d3;console.log('finished loading d3');require(['downloadable'], function(downloadable){window['downloadable']=downloadable;console.log('finished loading downloadable');\\n\\n\\tvar script = d3.select(\\\"head\\\")\\n\\t    .append(\\\"script\\\")\\n\\t    .attr(\\\"src\\\", \\\"http://cdn.rawgit.com/domitry/Nyaplotjs/master/release/nyaplot.js\\\")\\n\\t    .attr(\\\"async\\\", true);\\n\\n\\tscript[0][0].onload = script[0][0].onreadystatechange = function(){\\n\\n\\n\\t    var event = document.createEvent(\\\"HTMLEvents\\\");\\n\\t    event.initEvent(\\\"load_nyaplot\\\",false,false);\\n\\t    window.dispatchEvent(event);\\n\\t    console.log('Finished loading Nyaplotjs');\\n\\n\\t};\\n\\n\\n});});\\n}\\n\""
      ]
     },
     "metadata": {},
     "output_type": "display_data"
    },
    {
     "data": {
      "text/html": [
       "<div id='vis-50bc55d5-8957-4336-bf40-913ebcef312c'></div>\n",
       "<script>\n",
       "(function(){\n",
       "    var render = function(){\n",
       "        var model = {\"panes\":[{\"diagrams\":[{\"type\":\"scatter\",\"options\":{\"x\":\"data0\",\"y\":\"data1\"},\"data\":\"eb65f5e9-14ab-46f7-a77d-b8d8a81da7c6\"}],\"options\":{\"zoom\":true,\"width\":700,\"xrange\":[0,4],\"yrange\":[-5,4]}}],\"data\":{\"eb65f5e9-14ab-46f7-a77d-b8d8a81da7c6\":[{\"data0\":0,\"data1\":-1},{\"data0\":1,\"data1\":2},{\"data0\":2,\"data1\":-3},{\"data0\":3,\"data1\":4},{\"data0\":4,\"data1\":-5}]},\"extension\":[]}\n",
       "        var id_name = '#vis-50bc55d5-8957-4336-bf40-913ebcef312c';\n",
       "        Nyaplot.core.parse(model, id_name);\n",
       "\n",
       "        require(['downloadable'], function(downloadable){\n",
       "          var svg = d3.select(id_name).select(\"svg\");\n",
       "\t  if(!svg.empty())\n",
       "\t    svg.call(downloadable().filename('fig'));\n",
       "\t});\n",
       "    };\n",
       "    if(window['Nyaplot']==undefined){\n",
       "        window.addEventListener('load_nyaplot', render, false);\n",
       "\treturn;\n",
       "    } else {\n",
       "       render();\n",
       "    }\n",
       "})();\n",
       "</script>\n"
      ],
      "text/plain": [
       "#<Nyaplot::Frame:0x007fcfa50e9a80 @properties={:panes=>[#<Nyaplot::Plot:0x007fcfa50eb880 @properties={:diagrams=>[#<Nyaplot::Diagram:0x007fcfa50ea570 @properties={:type=>:scatter, :options=>{:x=>\"data0\", :y=>\"data1\"}, :data=>\"eb65f5e9-14ab-46f7-a77d-b8d8a81da7c6\"}, @xrange=[0, 4], @yrange=[-5, 4]>], :options=>{:zoom=>true, :width=>700, :xrange=>[0, 4], :yrange=>[-5, 4]}}>], :data=>{\"eb65f5e9-14ab-46f7-a77d-b8d8a81da7c6\"=>#<Nyaplot::DataFrame:0x007fcfa50eb100 @name=\"eb65f5e9-14ab-46f7-a77d-b8d8a81da7c6\", @rows=[{:data0=>0, :data1=>-1}, {:data0=>1, :data1=>2}, {:data0=>2, :data1=>-3}, {:data0=>3, :data1=>4}, {:data0=>4, :data1=>-5}]>}, :extension=>[]}>"
      ]
     },
     "metadata": {},
     "output_type": "display_data"
    }
   ],
   "source": [
    "require \"nyaplot\"\n",
    "\n",
    "plot = Nyaplot::Plot.new\n",
    "sc = plot.add(:scatter, [0,1,2,3,4], [-1,2,-3,4,-5])\n",
    "plot.show"
   ]
  },
  {
   "cell_type": "markdown",
   "metadata": {},
   "source": [
    "## Nyaplot Example 2\n",
    "\n",
    "The below example is taken from an example in [Nyaplot repository](https://github.com/domitry/nyaplot) ."
   ]
  },
  {
   "cell_type": "code",
   "execution_count": 14,
   "metadata": {
    "collapsed": false
   },
   "outputs": [
    {
     "data": {
      "text/html": [
       "<div id='vis-7aeb0e16-519a-402a-b80e-621d9d747a90'></div>\n",
       "<script>\n",
       "(function(){\n",
       "    var render = function(){\n",
       "        var model = {\"panes\":[{\"diagrams\":[{\"type\":\"bar\",\"options\":{\"x\":\"data0\",\"y\":\"data1\"},\"data\":\"c4c8747d-112b-4ef1-8cf4-21ea45569fb3\"}],\"options\":{\"x_label\":\"Species\",\"y_label\":\"Number\",\"width\":700,\"xrange\":[\"Persian\",\"Maine Coon\",\"American Shorthair\"],\"yrange\":[0,30]}}],\"data\":{\"c4c8747d-112b-4ef1-8cf4-21ea45569fb3\":[{\"data0\":\"Persian\",\"data1\":10},{\"data0\":\"Maine Coon\",\"data1\":20},{\"data0\":\"American Shorthair\",\"data1\":30}]},\"extension\":[\"Elegans\"]}\n",
       "        var id_name = '#vis-7aeb0e16-519a-402a-b80e-621d9d747a90';\n",
       "        Nyaplot.core.parse(model, id_name);\n",
       "\n",
       "        require(['downloadable'], function(downloadable){\n",
       "          var svg = d3.select(id_name).select(\"svg\");\n",
       "\t  if(!svg.empty())\n",
       "\t    svg.call(downloadable().filename('fig'));\n",
       "\t});\n",
       "    };\n",
       "    if(window['Nyaplot']==undefined){\n",
       "        window.addEventListener('load_nyaplot', render, false);\n",
       "\treturn;\n",
       "    } else {\n",
       "       render();\n",
       "    }\n",
       "})();\n",
       "</script>\n"
      ],
      "text/plain": [
       "#<Nyaplot::Frame:0x007fcfa5644f70 @properties={:panes=>[#<Nyaplot::Plot:0x007fcfa5646488 @properties={:diagrams=>[#<Nyaplot::Diagram:0x007fcfa5645768 @properties={:type=>:bar, :options=>{:x=>\"data0\", :y=>\"data1\"}, :data=>\"c4c8747d-112b-4ef1-8cf4-21ea45569fb3\"}, @xrange=[\"Persian\", \"Maine Coon\", \"American Shorthair\"], @yrange=[0, 30]>], :options=>{:x_label=>\"Species\", :y_label=>\"Number\", :width=>700, :xrange=>[\"Persian\", \"Maine Coon\", \"American Shorthair\"], :yrange=>[0, 30]}}>], :data=>{\"c4c8747d-112b-4ef1-8cf4-21ea45569fb3\"=>#<Nyaplot::DataFrame:0x007fcfa5645e48 @name=\"c4c8747d-112b-4ef1-8cf4-21ea45569fb3\", @rows=[{:data0=>\"Persian\", :data1=>10}, {:data0=>\"Maine Coon\", :data1=>20}, {:data0=>\"American Shorthair\", :data1=>30}]>}, :extension=>[\"Elegans\"]}>"
      ]
     },
     "metadata": {},
     "output_type": "display_data"
    }
   ],
   "source": [
    "require 'nyaplot'\n",
    "\n",
    "# Bar chart\n",
    "plot = Nyaplot::Plot.new\n",
    "plot.add(:bar, ['Persian', 'Maine Coon', 'American Shorthair'], [10,20,30])\n",
    "plot.x_label(\"Species\")\n",
    "plot.y_label(\"Number\")\n",
    "plot.show"
   ]
  },
  {
   "cell_type": "code",
   "execution_count": null,
   "metadata": {
    "collapsed": true
   },
   "outputs": [],
   "source": []
  }
 ],
 "metadata": {
  "kernelspec": {
   "display_name": "Ruby 2.3.1",
   "language": "ruby",
   "name": "ruby"
  },
  "language_info": {
   "file_extension": ".rb",
   "mimetype": "application/x-ruby",
   "name": "ruby",
   "version": "2.3.1"
  }
 },
 "nbformat": 4,
 "nbformat_minor": 1
}
